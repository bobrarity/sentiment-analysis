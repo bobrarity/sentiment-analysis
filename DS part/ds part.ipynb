{
 "cells": [
  {
   "cell_type": "markdown",
   "id": "722c4172",
   "metadata": {},
   "source": [
    "# Importing the libs"
   ]
  },
  {
   "cell_type": "code",
   "execution_count": 52,
   "id": "a26f21a9",
   "metadata": {},
   "outputs": [],
   "source": [
    "import numpy as np\n",
    "import pandas as pd\n",
    "import matplotlib.pyplot as plt\n",
    "import seaborn as sns\n",
    "\n",
    "import nltk\n",
    "from nltk.corpus import stopwords\n",
    "from nltk.tokenize import word_tokenize\n",
    "from nltk.stem import PorterStemmer, WordNetLemmatizer\n",
    "\n",
    "from sklearn.feature_extraction.text import TfidfVectorizer, CountVectorizer\n",
    "from sklearn.model_selection import train_test_split\n",
    "from sklearn.metrics import accuracy_score\n",
    "\n",
    "from sklearn.linear_model import LogisticRegression\n",
    "from sklearn.svm import SVC, LinearSVC\n",
    "from sklearn.ensemble import RandomForestClassifier\n",
    "from sklearn.model_selection import GridSearchCV"
   ]
  },
  {
   "cell_type": "code",
   "execution_count": 2,
   "id": "fa7b1556",
   "metadata": {},
   "outputs": [],
   "source": [
    "train_df = pd.read_csv('train.csv')\n",
    "test_df = pd.read_csv('test.csv')"
   ]
  },
  {
   "cell_type": "code",
   "execution_count": 3,
   "id": "2ae012d4",
   "metadata": {},
   "outputs": [
    {
     "data": {
      "text/html": [
       "<div>\n",
       "<style scoped>\n",
       "    .dataframe tbody tr th:only-of-type {\n",
       "        vertical-align: middle;\n",
       "    }\n",
       "\n",
       "    .dataframe tbody tr th {\n",
       "        vertical-align: top;\n",
       "    }\n",
       "\n",
       "    .dataframe thead th {\n",
       "        text-align: right;\n",
       "    }\n",
       "</style>\n",
       "<table border=\"1\" class=\"dataframe\">\n",
       "  <thead>\n",
       "    <tr style=\"text-align: right;\">\n",
       "      <th></th>\n",
       "      <th>review</th>\n",
       "      <th>sentiment</th>\n",
       "    </tr>\n",
       "  </thead>\n",
       "  <tbody>\n",
       "    <tr>\n",
       "      <th>0</th>\n",
       "      <td>I caught this little gem totally by accident b...</td>\n",
       "      <td>positive</td>\n",
       "    </tr>\n",
       "    <tr>\n",
       "      <th>1</th>\n",
       "      <td>I can't believe that I let myself into this mo...</td>\n",
       "      <td>negative</td>\n",
       "    </tr>\n",
       "    <tr>\n",
       "      <th>2</th>\n",
       "      <td>*spoiler alert!* it just gets to me the nerve ...</td>\n",
       "      <td>negative</td>\n",
       "    </tr>\n",
       "    <tr>\n",
       "      <th>3</th>\n",
       "      <td>If there's one thing I've learnt from watching...</td>\n",
       "      <td>negative</td>\n",
       "    </tr>\n",
       "    <tr>\n",
       "      <th>4</th>\n",
       "      <td>I remember when this was in theaters, reviews ...</td>\n",
       "      <td>negative</td>\n",
       "    </tr>\n",
       "  </tbody>\n",
       "</table>\n",
       "</div>"
      ],
      "text/plain": [
       "                                              review sentiment\n",
       "0  I caught this little gem totally by accident b...  positive\n",
       "1  I can't believe that I let myself into this mo...  negative\n",
       "2  *spoiler alert!* it just gets to me the nerve ...  negative\n",
       "3  If there's one thing I've learnt from watching...  negative\n",
       "4  I remember when this was in theaters, reviews ...  negative"
      ]
     },
     "execution_count": 3,
     "metadata": {},
     "output_type": "execute_result"
    }
   ],
   "source": [
    "train_df.head()"
   ]
  },
  {
   "cell_type": "code",
   "execution_count": 4,
   "id": "5131d528",
   "metadata": {},
   "outputs": [
    {
     "data": {
      "text/html": [
       "<div>\n",
       "<style scoped>\n",
       "    .dataframe tbody tr th:only-of-type {\n",
       "        vertical-align: middle;\n",
       "    }\n",
       "\n",
       "    .dataframe tbody tr th {\n",
       "        vertical-align: top;\n",
       "    }\n",
       "\n",
       "    .dataframe thead th {\n",
       "        text-align: right;\n",
       "    }\n",
       "</style>\n",
       "<table border=\"1\" class=\"dataframe\">\n",
       "  <thead>\n",
       "    <tr style=\"text-align: right;\">\n",
       "      <th></th>\n",
       "      <th>review</th>\n",
       "      <th>sentiment</th>\n",
       "    </tr>\n",
       "  </thead>\n",
       "  <tbody>\n",
       "    <tr>\n",
       "      <th>0</th>\n",
       "      <td>Yes, MTV there really is a way to market Daria...</td>\n",
       "      <td>negative</td>\n",
       "    </tr>\n",
       "    <tr>\n",
       "      <th>1</th>\n",
       "      <td>The story of the bride fair is an amusing and ...</td>\n",
       "      <td>negative</td>\n",
       "    </tr>\n",
       "    <tr>\n",
       "      <th>2</th>\n",
       "      <td>A team varied between Scully and Mulder, two o...</td>\n",
       "      <td>positive</td>\n",
       "    </tr>\n",
       "    <tr>\n",
       "      <th>3</th>\n",
       "      <td>This was a popular movie probably because of t...</td>\n",
       "      <td>negative</td>\n",
       "    </tr>\n",
       "    <tr>\n",
       "      <th>4</th>\n",
       "      <td>This movie made me so angry!! Here I am thinki...</td>\n",
       "      <td>negative</td>\n",
       "    </tr>\n",
       "  </tbody>\n",
       "</table>\n",
       "</div>"
      ],
      "text/plain": [
       "                                              review sentiment\n",
       "0  Yes, MTV there really is a way to market Daria...  negative\n",
       "1  The story of the bride fair is an amusing and ...  negative\n",
       "2  A team varied between Scully and Mulder, two o...  positive\n",
       "3  This was a popular movie probably because of t...  negative\n",
       "4  This movie made me so angry!! Here I am thinki...  negative"
      ]
     },
     "execution_count": 4,
     "metadata": {},
     "output_type": "execute_result"
    }
   ],
   "source": [
    "test_df.head()"
   ]
  },
  {
   "cell_type": "markdown",
   "id": "ea33d0dc",
   "metadata": {},
   "source": [
    "# EDA"
   ]
  },
  {
   "cell_type": "code",
   "execution_count": 5,
   "id": "c4763982",
   "metadata": {},
   "outputs": [],
   "source": [
    "sns.set(style=\"whitegrid\")"
   ]
  },
  {
   "cell_type": "markdown",
   "id": "640b73f5",
   "metadata": {},
   "source": [
    "## Class Distribution"
   ]
  },
  {
   "cell_type": "code",
   "execution_count": 6,
   "id": "969a3598",
   "metadata": {},
   "outputs": [
    {
     "data": {
      "image/png": "[encoded data removed]",
      "text/plain": [
       "<Figure size 800x500 with 1 Axes>"
      ]
     },
     "metadata": {},
     "output_type": "display_data"
    }
   ],
   "source": [
    "plt.figure(figsize=(8, 5))\n",
    "sns.countplot(x='sentiment', data=train_df, order = train_df['sentiment'].value_counts().index)\n",
    "plt.title('Class Distribution in training set')\n",
    "plt.xlabel('Sentiment')\n",
    "plt.ylabel('Count');"
   ]
  },
  {
   "cell_type": "markdown",
   "id": "979e28df",
   "metadata": {},
   "source": [
    "The dataset appears to be perfectly balanced between positive and negative sentiments. Thus, we can proceed without needing to balance our dataset artificially."
   ]
  },
  {
   "cell_type": "markdown",
   "id": "5087c403",
   "metadata": {},
   "source": [
    "## Text Length Analysis"
   ]
  },
  {
   "cell_type": "code",
   "execution_count": 7,
   "id": "d618228d",
   "metadata": {},
   "outputs": [
    {
     "data": {
      "image/png": "[encoded data removed]",
      "text/plain": [
       "<Figure size 1000x600 with 1 Axes>"
      ]
     },
     "metadata": {},
     "output_type": "display_data"
    }
   ],
   "source": [
    "train_df['review_length'] = train_df['review'].apply(len)\n",
    "plt.figure(figsize=(10, 6))\n",
    "sns.histplot(train_df['review_length'], bins=30, kde=True)\n",
    "plt.title('Review Length Distribution')\n",
    "plt.xlabel('Review Length')\n",
    "plt.ylabel('Frequency');"
   ]
  },
  {
   "cell_type": "markdown",
   "id": "767df930",
   "metadata": {},
   "source": [
    "The review lengths vary significantly, with a distribution that shows most reviews are under 2000 characters but some extend much longer."
   ]
  },
  {
   "cell_type": "markdown",
   "id": "c3d69f79",
   "metadata": {},
   "source": [
    "# Data preprocessing"
   ]
  },
  {
   "cell_type": "markdown",
   "id": "8fdab8c0",
   "metadata": {},
   "source": [
    "## Tokenization and Stop-Words Filtering"
   ]
  },
  {
   "cell_type": "code",
   "execution_count": 8,
   "id": "c5c71b55",
   "metadata": {},
   "outputs": [
    {
     "name": "stderr",
     "output_type": "stream",
     "text": [
      "[nltk_data] Downloading package punkt to\n",
      "[nltk_data]     C:\\Users\\hp\\AppData\\Roaming\\nltk_data...\n",
      "[nltk_data]   Package punkt is already up-to-date!\n",
      "[nltk_data] Downloading package stopwords to\n",
      "[nltk_data]     C:\\Users\\hp\\AppData\\Roaming\\nltk_data...\n",
      "[nltk_data]   Package stopwords is already up-to-date!\n"
     ]
    },
    {
     "data": {
      "text/plain": [
       "True"
      ]
     },
     "execution_count": 8,
     "metadata": {},
     "output_type": "execute_result"
    }
   ],
   "source": [
    "nltk.download('punkt')\n",
    "nltk.download('stopwords')"
   ]
  },
  {
   "cell_type": "code",
   "execution_count": 9,
   "id": "1c31ae47",
   "metadata": {},
   "outputs": [],
   "source": [
    "def preprocess_text(text):\n",
    "    tokens = word_tokenize(text)\n",
    "    \n",
    "    tokens_filtered = [word.lower() for word in tokens if word.isalpha() and word.lower() not in stopwords.words('english')]\n",
    "\n",
    "    return \" \".join(tokens_filtered)"
   ]
  },
  {
   "cell_type": "code",
   "execution_count": 10,
   "id": "1ddf0a97",
   "metadata": {
    "scrolled": true
   },
   "outputs": [],
   "source": [
    "train_df['processed_review'] = train_df['review'].apply(preprocess_text)"
   ]
  },
  {
   "cell_type": "code",
   "execution_count": 11,
   "id": "7de8611f",
   "metadata": {},
   "outputs": [
    {
     "data": {
      "text/html": [
       "<div>\n",
       "<style scoped>\n",
       "    .dataframe tbody tr th:only-of-type {\n",
       "        vertical-align: middle;\n",
       "    }\n",
       "\n",
       "    .dataframe tbody tr th {\n",
       "        vertical-align: top;\n",
       "    }\n",
       "\n",
       "    .dataframe thead th {\n",
       "        text-align: right;\n",
       "    }\n",
       "</style>\n",
       "<table border=\"1\" class=\"dataframe\">\n",
       "  <thead>\n",
       "    <tr style=\"text-align: right;\">\n",
       "      <th></th>\n",
       "      <th>review</th>\n",
       "      <th>sentiment</th>\n",
       "      <th>review_length</th>\n",
       "      <th>processed_review</th>\n",
       "    </tr>\n",
       "  </thead>\n",
       "  <tbody>\n",
       "    <tr>\n",
       "      <th>0</th>\n",
       "      <td>I caught this little gem totally by accident b...</td>\n",
       "      <td>positive</td>\n",
       "      <td>892</td>\n",
       "      <td>caught little gem totally accident back reviva...</td>\n",
       "    </tr>\n",
       "    <tr>\n",
       "      <th>1</th>\n",
       "      <td>I can't believe that I let myself into this mo...</td>\n",
       "      <td>negative</td>\n",
       "      <td>937</td>\n",
       "      <td>ca believe let movie accomplish favor friends ...</td>\n",
       "    </tr>\n",
       "    <tr>\n",
       "      <th>2</th>\n",
       "      <td>*spoiler alert!* it just gets to me the nerve ...</td>\n",
       "      <td>negative</td>\n",
       "      <td>468</td>\n",
       "      <td>spoiler alert gets nerve people remake use ter...</td>\n",
       "    </tr>\n",
       "    <tr>\n",
       "      <th>3</th>\n",
       "      <td>If there's one thing I've learnt from watching...</td>\n",
       "      <td>negative</td>\n",
       "      <td>1960</td>\n",
       "      <td>one thing learnt watching george romero creeps...</td>\n",
       "    </tr>\n",
       "    <tr>\n",
       "      <th>4</th>\n",
       "      <td>I remember when this was in theaters, reviews ...</td>\n",
       "      <td>negative</td>\n",
       "      <td>1015</td>\n",
       "      <td>remember theaters reviews said horrible well t...</td>\n",
       "    </tr>\n",
       "  </tbody>\n",
       "</table>\n",
       "</div>"
      ],
      "text/plain": [
       "                                              review sentiment  review_length  \\\n",
       "0  I caught this little gem totally by accident b...  positive            892   \n",
       "1  I can't believe that I let myself into this mo...  negative            937   \n",
       "2  *spoiler alert!* it just gets to me the nerve ...  negative            468   \n",
       "3  If there's one thing I've learnt from watching...  negative           1960   \n",
       "4  I remember when this was in theaters, reviews ...  negative           1015   \n",
       "\n",
       "                                    processed_review  \n",
       "0  caught little gem totally accident back reviva...  \n",
       "1  ca believe let movie accomplish favor friends ...  \n",
       "2  spoiler alert gets nerve people remake use ter...  \n",
       "3  one thing learnt watching george romero creeps...  \n",
       "4  remember theaters reviews said horrible well t...  "
      ]
     },
     "execution_count": 11,
     "metadata": {},
     "output_type": "execute_result"
    }
   ],
   "source": [
    "train_df.head()"
   ]
  },
  {
   "cell_type": "markdown",
   "id": "65cb2dd5",
   "metadata": {},
   "source": [
    "## Stemming & Lemmatization"
   ]
  },
  {
   "cell_type": "code",
   "execution_count": 12,
   "id": "608c73ef",
   "metadata": {},
   "outputs": [
    {
     "name": "stderr",
     "output_type": "stream",
     "text": [
      "[nltk_data] Downloading package wordnet to\n",
      "[nltk_data]     C:\\Users\\hp\\AppData\\Roaming\\nltk_data...\n",
      "[nltk_data]   Package wordnet is already up-to-date!\n",
      "[nltk_data] Downloading package omw-1.4 to\n",
      "[nltk_data]     C:\\Users\\hp\\AppData\\Roaming\\nltk_data...\n",
      "[nltk_data]   Package omw-1.4 is already up-to-date!\n"
     ]
    },
    {
     "data": {
      "text/plain": [
       "True"
      ]
     },
     "execution_count": 12,
     "metadata": {},
     "output_type": "execute_result"
    }
   ],
   "source": [
    "nltk.download('wordnet')\n",
    "nltk.download('omw-1.4')"
   ]
  },
  {
   "cell_type": "code",
   "execution_count": 13,
   "id": "094c4fd8",
   "metadata": {},
   "outputs": [],
   "source": [
    "stemmer = PorterStemmer()\n",
    "lemmatizer = WordNetLemmatizer()"
   ]
  },
  {
   "cell_type": "code",
   "execution_count": 14,
   "id": "5a7dd2e5",
   "metadata": {},
   "outputs": [],
   "source": [
    "def stem_text(text):\n",
    "    return \" \".join([stemmer.stem(word) for word in word_tokenize(text.lower())])\n",
    "\n",
    "def lemmatize_text(text):\n",
    "    return \" \".join([lemmatizer.lemmatize(word) for word in word_tokenize(text.lower())])"
   ]
  },
  {
   "cell_type": "code",
   "execution_count": 15,
   "id": "372916b1",
   "metadata": {},
   "outputs": [],
   "source": [
    "train_df['stemmed_review'] = train_df['processed_review'].apply(stem_text)\n",
    "train_df['lemmatized_review'] = train_df['processed_review'].apply(lemmatize_text)"
   ]
  },
  {
   "cell_type": "code",
   "execution_count": 16,
   "id": "67afd341",
   "metadata": {},
   "outputs": [
    {
     "data": {
      "text/plain": [
       "'caught little gem totally accident back revival theatre see two old silly movies theatre packed full warning showed bunch short spoofs get us mood somewhat amusing came within seconds audience hysterics biggest laugh came showed princess laia huge cinnamon buns instead hair head looks camera gives grim smile nods made even funnier got ta see chewabacca played looks like muppet extremely silly stupid could stop laughing dialogue drowned laughter also know star wars pretty well even funnier deliberately poke fun dialogue really works audience definite'"
      ]
     },
     "execution_count": 16,
     "metadata": {},
     "output_type": "execute_result"
    }
   ],
   "source": [
    "train_df['processed_review'][0]"
   ]
  },
  {
   "cell_type": "code",
   "execution_count": 17,
   "id": "221be0ed",
   "metadata": {},
   "outputs": [
    {
     "data": {
      "text/plain": [
       "'caught littl gem total accid back reviv theatr see two old silli movi theatr pack full warn show bunch short spoof get us mood somewhat amus came within second audienc hyster biggest laugh came show princess laia huge cinnamon bun instead hair head look camera give grim smile nod made even funnier got ta see chewabacca play look like muppet extrem silli stupid could stop laugh dialogu drown laughter also know star war pretti well even funnier deliber poke fun dialogu realli work audienc definit'"
      ]
     },
     "execution_count": 17,
     "metadata": {},
     "output_type": "execute_result"
    }
   ],
   "source": [
    "train_df['stemmed_review'][0]"
   ]
  },
  {
   "cell_type": "code",
   "execution_count": 18,
   "id": "961cc54d",
   "metadata": {},
   "outputs": [
    {
     "data": {
      "text/plain": [
       "'caught little gem totally accident back revival theatre see two old silly movie theatre packed full warning showed bunch short spoof get u mood somewhat amusing came within second audience hysteric biggest laugh came showed princess laia huge cinnamon bun instead hair head look camera give grim smile nod made even funnier got ta see chewabacca played look like muppet extremely silly stupid could stop laughing dialogue drowned laughter also know star war pretty well even funnier deliberately poke fun dialogue really work audience definite'"
      ]
     },
     "execution_count": 18,
     "metadata": {},
     "output_type": "execute_result"
    }
   ],
   "source": [
    "train_df['lemmatized_review'][0]"
   ]
  },
  {
   "cell_type": "markdown",
   "id": "ca9363b5",
   "metadata": {},
   "source": [
    "<b>Stemming</b> typically reduces words to their base or root form, often leading to truncated words that may not be actual words. This process is fast and aggressive, making it useful for datasets where the precise form of a word is less important than its root meaning.\n",
    "\n",
    "<b>Lemmatization</b>, on the other hand, reduces words to their base or dictionary form, ensuring that the reduced form is a valid word. This process is more sophisticated and considers the word's part of speech, making it generally more accurate but slower than stemming."
   ]
  },
  {
   "cell_type": "markdown",
   "id": "5b2ff404",
   "metadata": {},
   "source": [
    "## TF-IDF Vectorizer & Count Vectorizer"
   ]
  },
  {
   "cell_type": "code",
   "execution_count": 19,
   "id": "23f47f39",
   "metadata": {},
   "outputs": [],
   "source": [
    "tfidf_vectorizer = TfidfVectorizer()\n",
    "count_vectorizer = CountVectorizer()"
   ]
  },
  {
   "cell_type": "code",
   "execution_count": 20,
   "id": "936cac08",
   "metadata": {},
   "outputs": [],
   "source": [
    "def train_model(vectorizer, X, y):\n",
    "    X_vectorized = vectorizer.fit_transform(X)\n",
    "    X_train, X_test, y_train, y_test = train_test_split(X_vectorized, y, test_size=0.2, random_state=101)\n",
    "    model = LogisticRegression(max_iter=1000)\n",
    "    model.fit(X_train, y_train)\n",
    "    y_pred = model.predict(X_test)\n",
    "    return accuracy_score(y_test, y_pred)"
   ]
  },
  {
   "cell_type": "code",
   "execution_count": 21,
   "id": "ceee3ad1",
   "metadata": {},
   "outputs": [],
   "source": [
    "y = train_df['sentiment'].map({'positive': 1, 'negative': 0})  # Assuming binary classification\n",
    "accuracies = {}\n",
    "accuracies['TF-IDF Stemmed'] = train_model(tfidf_vectorizer, train_df['stemmed_review'], y)\n",
    "accuracies['CountVectorizer Stemmed'] = train_model(count_vectorizer, train_df['stemmed_review'], y)\n",
    "accuracies['TF-IDF Lemmatized'] = train_model(tfidf_vectorizer, train_df['lemmatized_review'], y)\n",
    "accuracies['CountVectorizer Lemmatized'] = train_model(count_vectorizer, train_df['lemmatized_review'], y)"
   ]
  },
  {
   "cell_type": "code",
   "execution_count": 22,
   "id": "f1bf02a5",
   "metadata": {},
   "outputs": [
    {
     "name": "stdout",
     "output_type": "stream",
     "text": [
      "TF-IDF Stemmed: Accuracy = 0.889375\n",
      "CountVectorizer Stemmed: Accuracy = 0.87425\n",
      "TF-IDF Lemmatized: Accuracy = 0.887625\n",
      "CountVectorizer Lemmatized: Accuracy = 0.877375\n"
     ]
    }
   ],
   "source": [
    "for method, acc in accuracies.items():\n",
    "    print(f'{method}: Accuracy = {acc}')"
   ]
  },
  {
   "cell_type": "markdown",
   "id": "d49fc407",
   "metadata": {},
   "source": [
    "<h4>Vectorization approaches:</h4>\n",
    "<body>TF-IDF vs. CountVectorizer: TF-IDF generally performs slightly better than CountVectorizer for both stemmed and lemmatized texts.</body>\n",
    "\n",
    "<h4>Stemming vs. Lemmatization:</h4>\n",
    "<body>The differences between stemming and lemmatization in terms of model accuracy are minimal, with stemming slightly outperforming lemmatization when combined with TF-IDF vectorization. This could indicate that the aggressive reduction of words to their stems doesn't significantly detract from the model's ability to classify sentiments, at least for this dataset.</body>\n",
    "\n",
    "<h3>Conclusion:</h3>\n",
    "Given these results, we will choose to proceed with TF-IDF vectorization and stemmed text for the highest accuracy. "
   ]
  },
  {
   "cell_type": "code",
   "execution_count": 23,
   "id": "9c87400e",
   "metadata": {},
   "outputs": [
    {
     "data": {
      "text/html": [
       "<div>\n",
       "<style scoped>\n",
       "    .dataframe tbody tr th:only-of-type {\n",
       "        vertical-align: middle;\n",
       "    }\n",
       "\n",
       "    .dataframe tbody tr th {\n",
       "        vertical-align: top;\n",
       "    }\n",
       "\n",
       "    .dataframe thead th {\n",
       "        text-align: right;\n",
       "    }\n",
       "</style>\n",
       "<table border=\"1\" class=\"dataframe\">\n",
       "  <thead>\n",
       "    <tr style=\"text-align: right;\">\n",
       "      <th></th>\n",
       "      <th>review</th>\n",
       "      <th>sentiment</th>\n",
       "    </tr>\n",
       "  </thead>\n",
       "  <tbody>\n",
       "    <tr>\n",
       "      <th>0</th>\n",
       "      <td>Yes, MTV there really is a way to market Daria...</td>\n",
       "      <td>negative</td>\n",
       "    </tr>\n",
       "    <tr>\n",
       "      <th>1</th>\n",
       "      <td>The story of the bride fair is an amusing and ...</td>\n",
       "      <td>negative</td>\n",
       "    </tr>\n",
       "    <tr>\n",
       "      <th>2</th>\n",
       "      <td>A team varied between Scully and Mulder, two o...</td>\n",
       "      <td>positive</td>\n",
       "    </tr>\n",
       "    <tr>\n",
       "      <th>3</th>\n",
       "      <td>This was a popular movie probably because of t...</td>\n",
       "      <td>negative</td>\n",
       "    </tr>\n",
       "    <tr>\n",
       "      <th>4</th>\n",
       "      <td>This movie made me so angry!! Here I am thinki...</td>\n",
       "      <td>negative</td>\n",
       "    </tr>\n",
       "  </tbody>\n",
       "</table>\n",
       "</div>"
      ],
      "text/plain": [
       "                                              review sentiment\n",
       "0  Yes, MTV there really is a way to market Daria...  negative\n",
       "1  The story of the bride fair is an amusing and ...  negative\n",
       "2  A team varied between Scully and Mulder, two o...  positive\n",
       "3  This was a popular movie probably because of t...  negative\n",
       "4  This movie made me so angry!! Here I am thinki...  negative"
      ]
     },
     "execution_count": 23,
     "metadata": {},
     "output_type": "execute_result"
    }
   ],
   "source": [
    "test_df.head()"
   ]
  },
  {
   "cell_type": "code",
   "execution_count": 24,
   "id": "93c37c42",
   "metadata": {},
   "outputs": [],
   "source": [
    "test_df['processed_review'] = test_df['review'].apply(preprocess_text)\n",
    "\n",
    "test_df['stemmed_review'] = test_df['processed_review'].apply(stem_text)"
   ]
  },
  {
   "cell_type": "code",
   "execution_count": 25,
   "id": "6a3d52cd",
   "metadata": {},
   "outputs": [],
   "source": [
    "X_train_tfidf = tfidf_vectorizer.fit_transform(train_df['stemmed_review'])\n",
    "\n",
    "X_test_tfidf = tfidf_vectorizer.transform(test_df['stemmed_review'])\n",
    "\n",
    "y_train = train_df['sentiment'].map({'positive': 1, 'negative': 0})\n",
    "\n",
    "y_test = test_df['sentiment'].map({'positive': 1, 'negative': 0})"
   ]
  },
  {
   "cell_type": "markdown",
   "id": "7acacf38",
   "metadata": {},
   "source": [
    "# Modeling"
   ]
  },
  {
   "cell_type": "code",
   "execution_count": 29,
   "id": "f695f582",
   "metadata": {},
   "outputs": [],
   "source": [
    "def no_tuning(model, X_train, y_train, X_test, y_test):\n",
    "    model.fit(X_train,y_train)\n",
    "    y_pred = model.predict(X_test)\n",
    "    return accuracy_score(y_test, y_pred)"
   ]
  },
  {
   "cell_type": "code",
   "execution_count": 30,
   "id": "470df4f0",
   "metadata": {},
   "outputs": [
    {
     "name": "stdout",
     "output_type": "stream",
     "text": [
      "0.8918\n"
     ]
    }
   ],
   "source": [
    "print(no_tuning(LogisticRegression(max_iter=1000),X_train_tfidf,y_train,X_test_tfidf,y_test))"
   ]
  },
  {
   "cell_type": "markdown",
   "id": "eb8e9e8b",
   "metadata": {},
   "source": [
    "We already got the accuracy score higher than 0.85 using <b>Logistic Regression</b> model without any hyperparameter tuning"
   ]
  },
  {
   "cell_type": "code",
   "execution_count": 31,
   "id": "b298df59",
   "metadata": {},
   "outputs": [
    {
     "name": "stdout",
     "output_type": "stream",
     "text": [
      "0.8968\n"
     ]
    }
   ],
   "source": [
    "print(no_tuning(SVC(),X_train_tfidf,y_train,X_test_tfidf,y_test))"
   ]
  },
  {
   "cell_type": "markdown",
   "id": "ceb48d56",
   "metadata": {},
   "source": [
    "We got the accuracy score higher than 0.85 using <b>Support Vector Classifier</b> model without any hyperparameter tuning"
   ]
  },
  {
   "cell_type": "code",
   "execution_count": 53,
   "id": "36fb01ee",
   "metadata": {},
   "outputs": [
    {
     "name": "stdout",
     "output_type": "stream",
     "text": [
      "0.8908\n"
     ]
    }
   ],
   "source": [
    "print(no_tuning(LinearSVC(),X_train_tfidf,y_train,X_test_tfidf,y_test))"
   ]
  },
  {
   "cell_type": "markdown",
   "id": "f8bf4a0f",
   "metadata": {},
   "source": [
    "We got the accuracy score higher than 0.85 using <b>Linear Support Vector Classifier</b> model without any hyperparameter tuning"
   ]
  },
  {
   "cell_type": "code",
   "execution_count": 33,
   "id": "d432b8cc",
   "metadata": {},
   "outputs": [
    {
     "name": "stdout",
     "output_type": "stream",
     "text": [
      "0.8541\n"
     ]
    }
   ],
   "source": [
    "print(no_tuning(RandomForestClassifier(),X_train_tfidf,y_train,X_test_tfidf,y_test))"
   ]
  },
  {
   "cell_type": "markdown",
   "id": "fffd7bdd",
   "metadata": {},
   "source": [
    "We got the accuracy score higher than 0.85 using <b>Random Forest Classifier</b> model without any hyperparameter tuning"
   ]
  },
  {
   "cell_type": "markdown",
   "id": "4798e3aa",
   "metadata": {},
   "source": [
    "In conclusion, the SVC model is the best for now but it's very computationally expensive"
   ]
  },
  {
   "cell_type": "markdown",
   "id": "6b0caf9c",
   "metadata": {},
   "source": [
    "### LogReg hyperparameter tuning"
   ]
  },
  {
   "cell_type": "code",
   "execution_count": 45,
   "id": "6caf757b",
   "metadata": {},
   "outputs": [],
   "source": [
    "lr_model = LogisticRegression(max_iter=1000)"
   ]
  },
  {
   "cell_type": "code",
   "execution_count": 46,
   "id": "103994a0",
   "metadata": {},
   "outputs": [],
   "source": [
    "lr_param_grid = {\n",
    "    'C': [0.01, 0.1, 1, 10, 100],\n",
    "    'penalty': ['l1', 'l2'],\n",
    "    'solver': ['liblinear', 'lbfgs']\n",
    "}"
   ]
  },
  {
   "cell_type": "code",
   "execution_count": 47,
   "id": "52932eac",
   "metadata": {},
   "outputs": [],
   "source": [
    "lr_grid_search = GridSearchCV(lr_model, lr_param_grid, cv=5)"
   ]
  },
  {
   "cell_type": "code",
   "execution_count": 49,
   "id": "0ed8c135",
   "metadata": {},
   "outputs": [
    {
     "name": "stderr",
     "output_type": "stream",
     "text": [
      "C:\\Users\\hp\\anaconda3\\Lib\\site-packages\\sklearn\\model_selection\\_validation.py:378: FitFailedWarning: \n",
      "25 fits failed out of a total of 100.\n",
      "The score on these train-test partitions for these parameters will be set to nan.\n",
      "If these failures are not expected, you can try to debug them by setting error_score='raise'.\n",
      "\n",
      "Below are more details about the failures:\n",
      "--------------------------------------------------------------------------------\n",
      "25 fits failed with the following error:\n",
      "Traceback (most recent call last):\n",
      "  File \"C:\\Users\\hp\\anaconda3\\Lib\\site-packages\\sklearn\\model_selection\\_validation.py\", line 686, in _fit_and_score\n",
      "    estimator.fit(X_train, y_train, **fit_params)\n",
      "  File \"C:\\Users\\hp\\anaconda3\\Lib\\site-packages\\sklearn\\linear_model\\_logistic.py\", line 1162, in fit\n",
      "    solver = _check_solver(self.solver, self.penalty, self.dual)\n",
      "             ^^^^^^^^^^^^^^^^^^^^^^^^^^^^^^^^^^^^^^^^^^^^^^^^^^^\n",
      "  File \"C:\\Users\\hp\\anaconda3\\Lib\\site-packages\\sklearn\\linear_model\\_logistic.py\", line 54, in _check_solver\n",
      "    raise ValueError(\n",
      "ValueError: Solver lbfgs supports only 'l2' or 'none' penalties, got l1 penalty.\n",
      "\n",
      "  warnings.warn(some_fits_failed_message, FitFailedWarning)\n",
      "C:\\Users\\hp\\anaconda3\\Lib\\site-packages\\sklearn\\model_selection\\_search.py:952: UserWarning: One or more of the test scores are non-finite: [0.6163        nan 0.817175 0.816175 0.822175      nan 0.86315  0.86295\n",
      " 0.87775       nan 0.8875   0.8875   0.872425      nan 0.888725 0.88865\n",
      " 0.861675      nan 0.876675 0.87675 ]\n",
      "  warnings.warn(\n"
     ]
    },
    {
     "name": "stdout",
     "output_type": "stream",
     "text": [
      "Best parameters for Logistic Regression: {'C': 10, 'penalty': 'l2', 'solver': 'liblinear'}\n",
      "Best cross-validation score for Logistic Regression: 0.888725\n"
     ]
    }
   ],
   "source": [
    "lr_grid_search.fit(X_train_tfidf, y_train)\n",
    "print(f'Best parameters for Logistic Regression: {lr_grid_search.best_params_}')\n",
    "print(f'Best cross-validation score for Logistic Regression: {lr_grid_search.best_score_}')"
   ]
  },
  {
   "cell_type": "code",
   "execution_count": 51,
   "id": "7e4343de",
   "metadata": {},
   "outputs": [
    {
     "data": {
      "text/plain": [
       "0.8925"
      ]
     },
     "execution_count": 51,
     "metadata": {},
     "output_type": "execute_result"
    }
   ],
   "source": [
    "y_pred = lr_grid_search.predict(X_test_tfidf)\n",
    "accuracy_score(y_test,y_pred)"
   ]
  },
  {
   "cell_type": "markdown",
   "id": "8500076c",
   "metadata": {},
   "source": [
    "The tuned Logistic Regression model is slightly better than non-tuned in terms of accuracy score metric (0.8925 > 0.8918)"
   ]
  },
  {
   "cell_type": "markdown",
   "id": "d9906bcd",
   "metadata": {},
   "source": [
    "### LinearSVC hyperparameter tuning"
   ]
  },
  {
   "cell_type": "markdown",
   "id": "988320e0",
   "metadata": {},
   "source": [
    "I tried hyperparameter tuning for SVC and RFC but it took almost a day on my computer, so I wouldn't include it"
   ]
  },
  {
   "cell_type": "markdown",
   "id": "5c5dc63b",
   "metadata": {},
   "source": [
    "Instead I'll use the LinearSVC as it is much faster"
   ]
  },
  {
   "cell_type": "code",
   "execution_count": 54,
   "id": "d9ed4013",
   "metadata": {},
   "outputs": [],
   "source": [
    "linear_svc_param_grid = {\n",
    "    'C': [0.01, 0.1, 1, 10, 100],\n",
    "    'penalty': ['l1', 'l2'],\n",
    "    'dual': [False]\n",
    "}"
   ]
  },
  {
   "cell_type": "code",
   "execution_count": 55,
   "id": "5433e4b9",
   "metadata": {},
   "outputs": [],
   "source": [
    "linear_svc_model = LinearSVC(max_iter=10000)\n",
    "\n",
    "linear_svc_grid_search = GridSearchCV(linear_svc_model, linear_svc_param_grid, cv=5, error_score='raise')"
   ]
  },
  {
   "cell_type": "code",
   "execution_count": 56,
   "id": "9cad903c",
   "metadata": {},
   "outputs": [
    {
     "name": "stdout",
     "output_type": "stream",
     "text": [
      "Best parameters for LinearSVC: {'C': 0.1, 'dual': False, 'penalty': 'l2'}\n",
      "Best cross-validation score for LinearSVC: 0.8882749999999999\n"
     ]
    }
   ],
   "source": [
    "linear_svc_grid_search.fit(X_train_tfidf, y_train)\n",
    "print('Best parameters for LinearSVC:', linear_svc_grid_search.best_params_)\n",
    "print('Best cross-validation score for LinearSVC:', linear_svc_grid_search.best_score_)"
   ]
  },
  {
   "cell_type": "code",
   "execution_count": 57,
   "id": "a766fe3f",
   "metadata": {},
   "outputs": [
    {
     "data": {
      "text/plain": [
       "0.8933"
      ]
     },
     "execution_count": 57,
     "metadata": {},
     "output_type": "execute_result"
    }
   ],
   "source": [
    "y_pred = linear_svc_grid_search.predict(X_test_tfidf)\n",
    "accuracy_score(y_test,y_pred)"
   ]
  },
  {
   "cell_type": "markdown",
   "id": "add7c911",
   "metadata": {},
   "source": [
    "# Conclusion"
   ]
  },
  {
   "cell_type": "markdown",
   "id": "4545b93d",
   "metadata": {},
   "source": [
    "The LinearSVC model did slightly better compared to Logistic Regression one"
   ]
  }
 ],
 "metadata": {
  "kernelspec": {
   "display_name": "Python 3 (ipykernel)",
   "language": "python",
   "name": "python3"
  },
  "language_info": {
   "codemirror_mode": {
    "name": "ipython",
    "version": 3
   },
   "file_extension": ".py",
   "mimetype": "text/x-python",
   "name": "python",
   "nbconvert_exporter": "python",
   "pygments_lexer": "ipython3",
   "version": "3.11.3"
  }
 },
 "nbformat": 4,
 "nbformat_minor": 5
}
